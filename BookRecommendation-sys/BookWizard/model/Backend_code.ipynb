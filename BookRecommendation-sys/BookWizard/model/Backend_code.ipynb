{
 "cells": [
  {
   "cell_type": "code",
   "execution_count": 224,
   "metadata": {},
   "outputs": [
    {
     "data": {
      "text/html": [
       "<div>\n",
       "<style scoped>\n",
       "    .dataframe tbody tr th:only-of-type {\n",
       "        vertical-align: middle;\n",
       "    }\n",
       "\n",
       "    .dataframe tbody tr th {\n",
       "        vertical-align: top;\n",
       "    }\n",
       "\n",
       "    .dataframe thead th {\n",
       "        text-align: right;\n",
       "    }\n",
       "</style>\n",
       "<table border=\"1\" class=\"dataframe\">\n",
       "  <thead>\n",
       "    <tr style=\"text-align: right;\">\n",
       "      <th></th>\n",
       "      <th>Title</th>\n",
       "      <th>Author</th>\n",
       "      <th>Genre</th>\n",
       "      <th>SubGenre</th>\n",
       "      <th>Height</th>\n",
       "      <th>Publisher</th>\n",
       "    </tr>\n",
       "  </thead>\n",
       "  <tbody>\n",
       "    <tr>\n",
       "      <th>0</th>\n",
       "      <td>Fundamentals of Wavelets</td>\n",
       "      <td>Goswami, Jaideva</td>\n",
       "      <td>tech</td>\n",
       "      <td>signal_processing</td>\n",
       "      <td>228</td>\n",
       "      <td>Wiley</td>\n",
       "    </tr>\n",
       "    <tr>\n",
       "      <th>1</th>\n",
       "      <td>Data Smart</td>\n",
       "      <td>Foreman, John</td>\n",
       "      <td>tech</td>\n",
       "      <td>data_science</td>\n",
       "      <td>235</td>\n",
       "      <td>Wiley</td>\n",
       "    </tr>\n",
       "    <tr>\n",
       "      <th>2</th>\n",
       "      <td>God Created the Integers</td>\n",
       "      <td>Hawking, Stephen</td>\n",
       "      <td>tech</td>\n",
       "      <td>mathematics</td>\n",
       "      <td>197</td>\n",
       "      <td>Penguin</td>\n",
       "    </tr>\n",
       "    <tr>\n",
       "      <th>3</th>\n",
       "      <td>Superfreakonomics</td>\n",
       "      <td>Dubner, Stephen</td>\n",
       "      <td>science</td>\n",
       "      <td>economics</td>\n",
       "      <td>179</td>\n",
       "      <td>HarperCollins</td>\n",
       "    </tr>\n",
       "    <tr>\n",
       "      <th>4</th>\n",
       "      <td>Orientalism</td>\n",
       "      <td>Said, Edward</td>\n",
       "      <td>nonfiction</td>\n",
       "      <td>history</td>\n",
       "      <td>197</td>\n",
       "      <td>Penguin</td>\n",
       "    </tr>\n",
       "  </tbody>\n",
       "</table>\n",
       "</div>"
      ],
      "text/plain": [
       "                      Title            Author       Genre           SubGenre  \\\n",
       "0  Fundamentals of Wavelets  Goswami, Jaideva        tech  signal_processing   \n",
       "1                Data Smart     Foreman, John        tech       data_science   \n",
       "2  God Created the Integers  Hawking, Stephen        tech        mathematics   \n",
       "3         Superfreakonomics   Dubner, Stephen     science          economics   \n",
       "4               Orientalism      Said, Edward  nonfiction            history   \n",
       "\n",
       "   Height      Publisher  \n",
       "0     228          Wiley  \n",
       "1     235          Wiley  \n",
       "2     197        Penguin  \n",
       "3     179  HarperCollins  \n",
       "4     197        Penguin  "
      ]
     },
     "execution_count": 224,
     "metadata": {},
     "output_type": "execute_result"
    }
   ],
   "source": [
    "import pandas as pd\n",
    "import numpy as np\n",
    "books = pd.read_csv(r\"D:\\Projects\\Group-Projects\\Book_Recommendation_webapp\\Dataset\\Books_dataset\\books_new.csv\")\n",
    "books.head()"
   ]
  },
  {
   "cell_type": "code",
   "execution_count": 1,
   "metadata": {},
   "outputs": [
    {
     "name": "stdout",
     "output_type": "stream",
     "text": [
      "Unique Genres:\n",
      "['tech' 'scienc' 'nonfict' 'fiction' 'philosophi']\n",
      "\n",
      "Book Counts by Genre:\n",
      "Genre\n",
      "fiction       34\n",
      "nonfict       33\n",
      "tech          24\n",
      "scienc        13\n",
      "philosophi     8\n",
      "Name: count, dtype: int64\n"
     ]
    }
   ],
   "source": [
    "import pandas as pd\n",
    "\n",
    "# Load your CSV dataset into a pandas DataFrame\n",
    "# df = pd.read_csv(r'C:\\Users\\user\\OneDrive\\diug\\OneDrive\\Desktop\\my_project\\database\\books_new.csv')\n",
    "df1 = pd.read_csv(r'C:\\Users\\user\\OneDrive\\diug\\OneDrive\\Desktop\\my_project\\database\\books_preprocessed.csv')\n",
    "\n",
    "# Get the unique genres in your dataset\n",
    "# unique_genres = df['Genre'].unique()\n",
    "unique_genres = df1['Genre'].unique()\n",
    "\n",
    "# Print the unique genres\n",
    "print(\"Unique Genres:\")\n",
    "print(unique_genres)\n",
    "\n",
    "# Count the number of books in each genre\n",
    "genre_counts = df1['Genre'].value_counts()\n",
    "\n",
    "# Print the counts for each genre\n",
    "print(\"\\nBook Counts by Genre:\")\n",
    "print(genre_counts)\n",
    "\n",
    "\n",
    "\n",
    "# Load the dataset\n",
    "books = pd.read_csv(r\"C:\\Users\\user\\OneDrive\\diug\\OneDrive\\Desktop\\my_project\\database\\books_preprocessed.csv\")\n",
    "\n",
    "# Replace the old genre names with new ones\n",
    "genre_mapping = {\n",
    "    'philosophi': 'Philosophy',\n",
    "    'scienc': 'science',\n",
    "    'nonfict': 'nonfiction',\n",
    "\n",
    "}\n",
    "\n",
    "books['Genre'] = books['Genre'].replace(genre_mapping)\n",
    "\n",
    "# Save the updated dataset to a new CSV file\n",
    "books.to_csv(r\"C:\\Users\\user\\OneDrive\\diug\\OneDrive\\Desktop\\my_project\\database\\books_new_updated.csv\", index=False)"
   ]
  },
  {
   "cell_type": "markdown",
   "metadata": {},
   "source": [
    "## Data Preprocessing :-"
   ]
  },
  {
   "cell_type": "markdown",
   "metadata": {},
   "source": [
    "### Data now used "
   ]
  },
  {
   "cell_type": "code",
   "execution_count": 225,
   "metadata": {},
   "outputs": [
    {
     "data": {
      "text/html": [
       "<div>\n",
       "<style scoped>\n",
       "    .dataframe tbody tr th:only-of-type {\n",
       "        vertical-align: middle;\n",
       "    }\n",
       "\n",
       "    .dataframe tbody tr th {\n",
       "        vertical-align: top;\n",
       "    }\n",
       "\n",
       "    .dataframe thead th {\n",
       "        text-align: right;\n",
       "    }\n",
       "</style>\n",
       "<table border=\"1\" class=\"dataframe\">\n",
       "  <thead>\n",
       "    <tr style=\"text-align: right;\">\n",
       "      <th></th>\n",
       "      <th>Title</th>\n",
       "      <th>Author</th>\n",
       "      <th>Genre</th>\n",
       "      <th>Publisher</th>\n",
       "      <th>SubGenre</th>\n",
       "    </tr>\n",
       "  </thead>\n",
       "  <tbody>\n",
       "    <tr>\n",
       "      <th>0</th>\n",
       "      <td>Fundamentals of Wavelets</td>\n",
       "      <td>Goswami, Jaideva</td>\n",
       "      <td>tech</td>\n",
       "      <td>Wiley</td>\n",
       "      <td>signal_processing</td>\n",
       "    </tr>\n",
       "    <tr>\n",
       "      <th>1</th>\n",
       "      <td>Data Smart</td>\n",
       "      <td>Foreman, John</td>\n",
       "      <td>tech</td>\n",
       "      <td>Wiley</td>\n",
       "      <td>data_science</td>\n",
       "    </tr>\n",
       "    <tr>\n",
       "      <th>2</th>\n",
       "      <td>God Created the Integers</td>\n",
       "      <td>Hawking, Stephen</td>\n",
       "      <td>tech</td>\n",
       "      <td>Penguin</td>\n",
       "      <td>mathematics</td>\n",
       "    </tr>\n",
       "    <tr>\n",
       "      <th>3</th>\n",
       "      <td>Superfreakonomics</td>\n",
       "      <td>Dubner, Stephen</td>\n",
       "      <td>science</td>\n",
       "      <td>HarperCollins</td>\n",
       "      <td>economics</td>\n",
       "    </tr>\n",
       "    <tr>\n",
       "      <th>4</th>\n",
       "      <td>Orientalism</td>\n",
       "      <td>Said, Edward</td>\n",
       "      <td>nonfiction</td>\n",
       "      <td>Penguin</td>\n",
       "      <td>history</td>\n",
       "    </tr>\n",
       "  </tbody>\n",
       "</table>\n",
       "</div>"
      ],
      "text/plain": [
       "                      Title            Author       Genre      Publisher  \\\n",
       "0  Fundamentals of Wavelets  Goswami, Jaideva        tech          Wiley   \n",
       "1                Data Smart     Foreman, John        tech          Wiley   \n",
       "2  God Created the Integers  Hawking, Stephen        tech        Penguin   \n",
       "3         Superfreakonomics   Dubner, Stephen     science  HarperCollins   \n",
       "4               Orientalism      Said, Edward  nonfiction        Penguin   \n",
       "\n",
       "            SubGenre  \n",
       "0  signal_processing  \n",
       "1       data_science  \n",
       "2        mathematics  \n",
       "3          economics  \n",
       "4            history  "
      ]
     },
     "execution_count": 225,
     "metadata": {},
     "output_type": "execute_result"
    }
   ],
   "source": [
    "books = books[['Title','Author','Genre','Publisher','SubGenre']]\n",
    "books.head()"
   ]
  },
  {
   "cell_type": "code",
   "execution_count": 226,
   "metadata": {},
   "outputs": [
    {
     "data": {
      "text/plain": [
       "Title         0\n",
       "Author       24\n",
       "Genre         0\n",
       "Publisher    96\n",
       "SubGenre      0\n",
       "dtype: int64"
      ]
     },
     "execution_count": 226,
     "metadata": {},
     "output_type": "execute_result"
    }
   ],
   "source": [
    "# Missing Data\n",
    "books.isnull().sum()"
   ]
  },
  {
   "cell_type": "code",
   "execution_count": 227,
   "metadata": {},
   "outputs": [],
   "source": [
    "books.dropna(inplace=True)"
   ]
  },
  {
   "cell_type": "code",
   "execution_count": 228,
   "metadata": {},
   "outputs": [
    {
     "data": {
      "text/plain": [
       "Title        0\n",
       "Author       0\n",
       "Genre        0\n",
       "Publisher    0\n",
       "SubGenre     0\n",
       "dtype: int64"
      ]
     },
     "execution_count": 228,
     "metadata": {},
     "output_type": "execute_result"
    }
   ],
   "source": [
    "# Missing Data Removed\n",
    "books.isnull().sum()"
   ]
  },
  {
   "cell_type": "code",
   "execution_count": 229,
   "metadata": {},
   "outputs": [
    {
     "data": {
      "text/plain": [
       "0"
      ]
     },
     "execution_count": 229,
     "metadata": {},
     "output_type": "execute_result"
    }
   ],
   "source": [
    "# Duplicate Data :-\n",
    "books.duplicated().sum()"
   ]
  },
  {
   "cell_type": "code",
   "execution_count": 230,
   "metadata": {},
   "outputs": [
    {
     "data": {
      "text/html": [
       "<div>\n",
       "<style scoped>\n",
       "    .dataframe tbody tr th:only-of-type {\n",
       "        vertical-align: middle;\n",
       "    }\n",
       "\n",
       "    .dataframe tbody tr th {\n",
       "        vertical-align: top;\n",
       "    }\n",
       "\n",
       "    .dataframe thead th {\n",
       "        text-align: right;\n",
       "    }\n",
       "</style>\n",
       "<table border=\"1\" class=\"dataframe\">\n",
       "  <thead>\n",
       "    <tr style=\"text-align: right;\">\n",
       "      <th></th>\n",
       "      <th>Title</th>\n",
       "      <th>Author</th>\n",
       "      <th>Genre</th>\n",
       "      <th>Publisher</th>\n",
       "      <th>SubGenre</th>\n",
       "      <th>Tags</th>\n",
       "    </tr>\n",
       "  </thead>\n",
       "  <tbody>\n",
       "    <tr>\n",
       "      <th>0</th>\n",
       "      <td>Fundamentals of Wavelets</td>\n",
       "      <td>Goswami, Jaideva</td>\n",
       "      <td>tech</td>\n",
       "      <td>Wiley</td>\n",
       "      <td>signal_processing</td>\n",
       "      <td>techWileysignal_processing</td>\n",
       "    </tr>\n",
       "    <tr>\n",
       "      <th>1</th>\n",
       "      <td>Data Smart</td>\n",
       "      <td>Foreman, John</td>\n",
       "      <td>tech</td>\n",
       "      <td>Wiley</td>\n",
       "      <td>data_science</td>\n",
       "      <td>techWileydata_science</td>\n",
       "    </tr>\n",
       "    <tr>\n",
       "      <th>2</th>\n",
       "      <td>God Created the Integers</td>\n",
       "      <td>Hawking, Stephen</td>\n",
       "      <td>tech</td>\n",
       "      <td>Penguin</td>\n",
       "      <td>mathematics</td>\n",
       "      <td>techPenguinmathematics</td>\n",
       "    </tr>\n",
       "    <tr>\n",
       "      <th>3</th>\n",
       "      <td>Superfreakonomics</td>\n",
       "      <td>Dubner, Stephen</td>\n",
       "      <td>science</td>\n",
       "      <td>HarperCollins</td>\n",
       "      <td>economics</td>\n",
       "      <td>scienceHarperCollinseconomics</td>\n",
       "    </tr>\n",
       "    <tr>\n",
       "      <th>4</th>\n",
       "      <td>Orientalism</td>\n",
       "      <td>Said, Edward</td>\n",
       "      <td>nonfiction</td>\n",
       "      <td>Penguin</td>\n",
       "      <td>history</td>\n",
       "      <td>nonfictionPenguinhistory</td>\n",
       "    </tr>\n",
       "  </tbody>\n",
       "</table>\n",
       "</div>"
      ],
      "text/plain": [
       "                      Title            Author       Genre      Publisher  \\\n",
       "0  Fundamentals of Wavelets  Goswami, Jaideva        tech          Wiley   \n",
       "1                Data Smart     Foreman, John        tech          Wiley   \n",
       "2  God Created the Integers  Hawking, Stephen        tech        Penguin   \n",
       "3         Superfreakonomics   Dubner, Stephen     science  HarperCollins   \n",
       "4               Orientalism      Said, Edward  nonfiction        Penguin   \n",
       "\n",
       "            SubGenre                           Tags  \n",
       "0  signal_processing     techWileysignal_processing  \n",
       "1       data_science          techWileydata_science  \n",
       "2        mathematics         techPenguinmathematics  \n",
       "3          economics  scienceHarperCollinseconomics  \n",
       "4            history       nonfictionPenguinhistory  "
      ]
     },
     "execution_count": 230,
     "metadata": {},
     "output_type": "execute_result"
    }
   ],
   "source": [
    "books['Tags'] = books['Genre'] + books['Publisher'] + books['SubGenre']\n",
    "books.head()"
   ]
  },
  {
   "cell_type": "code",
   "execution_count": 231,
   "metadata": {},
   "outputs": [
    {
     "data": {
      "text/html": [
       "<div>\n",
       "<style scoped>\n",
       "    .dataframe tbody tr th:only-of-type {\n",
       "        vertical-align: middle;\n",
       "    }\n",
       "\n",
       "    .dataframe tbody tr th {\n",
       "        vertical-align: top;\n",
       "    }\n",
       "\n",
       "    .dataframe thead th {\n",
       "        text-align: right;\n",
       "    }\n",
       "</style>\n",
       "<table border=\"1\" class=\"dataframe\">\n",
       "  <thead>\n",
       "    <tr style=\"text-align: right;\">\n",
       "      <th></th>\n",
       "      <th>Title</th>\n",
       "      <th>Author</th>\n",
       "      <th>Tags</th>\n",
       "    </tr>\n",
       "  </thead>\n",
       "  <tbody>\n",
       "    <tr>\n",
       "      <th>0</th>\n",
       "      <td>Fundamentals of Wavelets</td>\n",
       "      <td>Goswami, Jaideva</td>\n",
       "      <td>techWileysignal_processing</td>\n",
       "    </tr>\n",
       "    <tr>\n",
       "      <th>1</th>\n",
       "      <td>Data Smart</td>\n",
       "      <td>Foreman, John</td>\n",
       "      <td>techWileydata_science</td>\n",
       "    </tr>\n",
       "    <tr>\n",
       "      <th>2</th>\n",
       "      <td>God Created the Integers</td>\n",
       "      <td>Hawking, Stephen</td>\n",
       "      <td>techPenguinmathematics</td>\n",
       "    </tr>\n",
       "    <tr>\n",
       "      <th>3</th>\n",
       "      <td>Superfreakonomics</td>\n",
       "      <td>Dubner, Stephen</td>\n",
       "      <td>scienceHarperCollinseconomics</td>\n",
       "    </tr>\n",
       "    <tr>\n",
       "      <th>4</th>\n",
       "      <td>Orientalism</td>\n",
       "      <td>Said, Edward</td>\n",
       "      <td>nonfictionPenguinhistory</td>\n",
       "    </tr>\n",
       "  </tbody>\n",
       "</table>\n",
       "</div>"
      ],
      "text/plain": [
       "                      Title            Author                           Tags\n",
       "0  Fundamentals of Wavelets  Goswami, Jaideva     techWileysignal_processing\n",
       "1                Data Smart     Foreman, John          techWileydata_science\n",
       "2  God Created the Integers  Hawking, Stephen         techPenguinmathematics\n",
       "3         Superfreakonomics   Dubner, Stephen  scienceHarperCollinseconomics\n",
       "4               Orientalism      Said, Edward       nonfictionPenguinhistory"
      ]
     },
     "execution_count": 231,
     "metadata": {},
     "output_type": "execute_result"
    }
   ],
   "source": [
    "new_books = books[['Title','Author','Tags']]\n",
    "new_books.head()"
   ]
  },
  {
   "cell_type": "code",
   "execution_count": 232,
   "metadata": {},
   "outputs": [
    {
     "data": {
      "text/plain": [
       "str"
      ]
     },
     "execution_count": 232,
     "metadata": {},
     "output_type": "execute_result"
    }
   ],
   "source": [
    "type(new_books['Tags'][0])"
   ]
  },
  {
   "cell_type": "code",
   "execution_count": 233,
   "metadata": {},
   "outputs": [
    {
     "name": "stderr",
     "output_type": "stream",
     "text": [
      "C:\\Users\\mayan\\AppData\\Local\\Temp\\ipykernel_2212\\1308611461.py:1: SettingWithCopyWarning: \n",
      "A value is trying to be set on a copy of a slice from a DataFrame.\n",
      "Try using .loc[row_indexer,col_indexer] = value instead\n",
      "\n",
      "See the caveats in the documentation: https://pandas.pydata.org/pandas-docs/stable/user_guide/indexing.html#returning-a-view-versus-a-copy\n",
      "  new_books['Tags'] = new_books['Tags'].apply(lambda x:x.lower())\n"
     ]
    }
   ],
   "source": [
    "new_books['Tags'] = new_books['Tags'].apply(lambda x:x.lower())"
   ]
  },
  {
   "cell_type": "code",
   "execution_count": 234,
   "metadata": {},
   "outputs": [],
   "source": [
    "from sklearn.feature_extraction.text import CountVectorizer\n",
    "cv = CountVectorizer(max_features=1000,stop_words='english')"
   ]
  },
  {
   "cell_type": "code",
   "execution_count": 235,
   "metadata": {},
   "outputs": [],
   "source": [
    "vectors = cv.fit_transform(new_books['Tags']).toarray()"
   ]
  },
  {
   "cell_type": "code",
   "execution_count": 236,
   "metadata": {},
   "outputs": [
    {
     "data": {
      "text/plain": [
       "array(['blackswanhistory', 'fictionharpercollinsclassic',\n",
       "       'fictionmaujnovel', 'fictionpannovel', 'fictionpenguinclassic',\n",
       "       'fictionpenguinnovel', 'fictionrandom', 'fictionrupaclassic',\n",
       "       'fictionrupanovel', 'fictiontransworldnovel', 'fictionvikasnovel',\n",
       "       'fictionvintageclassic', 'hallcomputer_science', 'headmathematics',\n",
       "       'houseautobiography', 'houseclassic', 'houseeconomics',\n",
       "       'househistory', 'housenovel', 'housephysics',\n",
       "       'nonfictionbbctrivia', 'nonfictiondellautobiography',\n",
       "       'nonfictionfontanaanthology', 'nonfictionfreepresspsychology',\n",
       "       'nonfictionharpercollinshistory',\n",
       "       'nonfictionhyperionautobiography', 'nonfictionmaujautobiography',\n",
       "       'nonfictionmaujmisc', 'nonfictionmaujpoetry', 'nonfictionorient',\n",
       "       'nonfictionpenguinautobiography', 'nonfictionpenguinhistory',\n",
       "       'nonfictionpenguinpsychology', 'nonfictionpicadorhistory',\n",
       "       'nonfictionrandom', 'nonfictionrupaautobiography',\n",
       "       'nonfictionsimon', 'nonfictionvikashistory',\n",
       "       'philosophypenguineconomics', 'philosophypenguinobjectivism',\n",
       "       'philosophypenguinphilosophy', 'philosophypenguinscience',\n",
       "       'philosophypockethistory', 'philosophyroutledgeeducation',\n",
       "       'philosophyroutledgephilosophy', 'philosophyvintageautobiography',\n",
       "       'presscomputer_science', 'pressdata_science',\n",
       "       'reillycomputer_science', 'reillydata_science',\n",
       "       'reillysignal_processing', 'schusterhistory', 'sciencebodley',\n",
       "       'scienceharpercollinseconomics', 'scienceharpercollinsphysics',\n",
       "       'sciencehighstakesmathematics', 'sciencejaicophysics',\n",
       "       'sciencepenguineconomics', 'sciencepenguinmathematics',\n",
       "       'sciencepenguinphysics', 'sciencerandom',\n",
       "       'sciencespringereconomics', 'techapressdata_science',\n",
       "       'techcrcsignal_processing', 'techelsevierdata_science',\n",
       "       'techhbamathematics', 'techmit', 'techo', 'techpearsoneconomics',\n",
       "       'techpearsonsignal_processing', 'techpenguindata_science',\n",
       "       'techpenguinmathematics', 'techprentice',\n",
       "       'techspringerdata_science', 'techspringereconomics',\n",
       "       'techtmhsignal_processing', 'techwileydata_science',\n",
       "       'techwileysignal_processing'], dtype=object)"
      ]
     },
     "execution_count": 236,
     "metadata": {},
     "output_type": "execute_result"
    }
   ],
   "source": [
    "cv.get_feature_names_out()"
   ]
  },
  {
   "cell_type": "code",
   "execution_count": 237,
   "metadata": {},
   "outputs": [],
   "source": [
    "import nltk\n",
    "from nltk.stem.porter import PorterStemmer\n",
    "ps = PorterStemmer()"
   ]
  },
  {
   "cell_type": "code",
   "execution_count": 238,
   "metadata": {},
   "outputs": [],
   "source": [
    "def stem(text):\n",
    "    y = []\n",
    "    for i in text.split():\n",
    "        y.append(ps.stem(i))\n",
    "    return \" \".join(y)\n"
   ]
  },
  {
   "cell_type": "code",
   "execution_count": 239,
   "metadata": {},
   "outputs": [
    {
     "data": {
      "text/plain": [
       "0              techwileysignal_process\n",
       "1                    techwileydata_sci\n",
       "2                  techpenguinmathemat\n",
       "3           scienceharpercollinseconom\n",
       "4             nonfictionpenguinhistori\n",
       "                    ...               \n",
       "114              sciencespringereconom\n",
       "115    nonfictionsimon&schusterhistori\n",
       "116          nonfictionfontanaantholog\n",
       "117        nonfictiondellautobiographi\n",
       "119                fictionpenguinclass\n",
       "Name: Tags, Length: 112, dtype: object"
      ]
     },
     "execution_count": 239,
     "metadata": {},
     "output_type": "execute_result"
    }
   ],
   "source": [
    "new_books['Tags'].apply(stem)"
   ]
  },
  {
   "cell_type": "code",
   "execution_count": 240,
   "metadata": {},
   "outputs": [],
   "source": [
    "from sklearn.metrics.pairwise import cosine_similarity\n",
    "similarity = cosine_similarity(vectors)"
   ]
  },
  {
   "cell_type": "code",
   "execution_count": 241,
   "metadata": {},
   "outputs": [],
   "source": [
    "def recommend(book):\n",
    "    book_index = new_books[new_books['Title'] == book].index[0]\n",
    "    distances = similarity[book_index]\n",
    "    books_list = sorted(list(enumerate(distances)),reverse=True,key=lambda x:x[1])[1:6]\n",
    "\n",
    "    for i in books_list:\n",
    "        print(new_books.iloc[i[0]].Title)  \n",
    "        # print(i[0])  "
   ]
  },
  {
   "cell_type": "code",
   "execution_count": 242,
   "metadata": {},
   "outputs": [
    {
     "name": "stdout",
     "output_type": "stream",
     "text": [
      "Fundamentals of Wavelets\n",
      "Data Smart\n",
      "Superfreakonomics\n",
      "Orientalism\n",
      "Nature of Statistical Learning Theory, The\n"
     ]
    }
   ],
   "source": [
    "recommend('God Created the Integers')"
   ]
  }
 ],
 "metadata": {
  "kernelspec": {
   "display_name": "Python 3",
   "language": "python",
   "name": "python3"
  },
  "language_info": {
   "codemirror_mode": {
    "name": "ipython",
    "version": 3
   },
   "file_extension": ".py",
   "mimetype": "text/x-python",
   "name": "python",
   "nbconvert_exporter": "python",
   "pygments_lexer": "ipython3",
   "version": "3.11.5"
  }
 },
 "nbformat": 4,
 "nbformat_minor": 2
}
